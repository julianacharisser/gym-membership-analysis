{
 "cells": [
  {
   "cell_type": "markdown",
   "metadata": {},
   "source": [
    "## Web Scraping Google Reviews"
   ]
  },
  {
   "cell_type": "code",
   "execution_count": 2,
   "metadata": {},
   "outputs": [],
   "source": [
    "from selenium import webdriver\n",
    "from selenium.webdriver.chrome.service import Service\n",
    "from selenium.webdriver.common.by import By\n",
    "from selenium.webdriver.support.ui import WebDriverWait\n",
    "from selenium.webdriver.support import expected_conditions as EC\n",
    "import time\n",
    "import pandas as pd"
   ]
  },
  {
   "cell_type": "markdown",
   "metadata": {},
   "source": [
    "### Scraping Reviews for Virgin Active Paya Lebar"
   ]
  },
  {
   "cell_type": "markdown",
   "metadata": {},
   "source": [
    "Only can scrape 5 reviews  "
   ]
  },
  {
   "cell_type": "code",
   "execution_count": 3,
   "metadata": {},
   "outputs": [
    {
     "ename": "TimeoutException",
     "evalue": "Message: \n",
     "output_type": "error",
     "traceback": [
      "\u001b[1;31m---------------------------------------------------------------------------\u001b[0m",
      "\u001b[1;31mTimeoutException\u001b[0m                          Traceback (most recent call last)",
      "Cell \u001b[1;32mIn[3], line 40\u001b[0m\n\u001b[0;32m     37\u001b[0m wait \u001b[38;5;241m=\u001b[39m WebDriverWait(driver, \u001b[38;5;241m10\u001b[39m)\n\u001b[0;32m     39\u001b[0m \u001b[38;5;66;03m# Wait for the review elements to be visible\u001b[39;00m\n\u001b[1;32m---> 40\u001b[0m review_elements \u001b[38;5;241m=\u001b[39m \u001b[43mwait\u001b[49m\u001b[38;5;241;43m.\u001b[39;49m\u001b[43muntil\u001b[49m\u001b[43m(\u001b[49m\n\u001b[0;32m     41\u001b[0m \u001b[43m    \u001b[49m\u001b[43mEC\u001b[49m\u001b[38;5;241;43m.\u001b[39;49m\u001b[43mvisibility_of_all_elements_located\u001b[49m\u001b[43m(\u001b[49m\u001b[43m(\u001b[49m\u001b[43mBy\u001b[49m\u001b[38;5;241;43m.\u001b[39;49m\u001b[43mCLASS_NAME\u001b[49m\u001b[43m,\u001b[49m\u001b[43m \u001b[49m\u001b[38;5;124;43m\"\u001b[39;49m\u001b[38;5;124;43mM77dve\u001b[39;49m\u001b[38;5;124;43m\"\u001b[39;49m\u001b[43m)\u001b[49m\u001b[43m)\u001b[49m\n\u001b[0;32m     42\u001b[0m \u001b[43m)\u001b[49m\n\u001b[0;32m     44\u001b[0m \u001b[38;5;66;03m# Scrape the reviews\u001b[39;00m\n\u001b[0;32m     45\u001b[0m reviews_data \u001b[38;5;241m=\u001b[39m []\n",
      "File \u001b[1;32mc:\\Users\\julia\\Documents\\Things\\05-SIM-UOL\\GitHub\\gym-membership-analysis\\.venv\\lib\\site-packages\\selenium\\webdriver\\support\\wait.py:105\u001b[0m, in \u001b[0;36mWebDriverWait.until\u001b[1;34m(self, method, message)\u001b[0m\n\u001b[0;32m    103\u001b[0m         \u001b[38;5;28;01mbreak\u001b[39;00m\n\u001b[0;32m    104\u001b[0m     time\u001b[38;5;241m.\u001b[39msleep(\u001b[38;5;28mself\u001b[39m\u001b[38;5;241m.\u001b[39m_poll)\n\u001b[1;32m--> 105\u001b[0m \u001b[38;5;28;01mraise\u001b[39;00m TimeoutException(message, screen, stacktrace)\n",
      "\u001b[1;31mTimeoutException\u001b[0m: Message: \n"
     ]
    }
   ],
   "source": [
    "# Specify the path to the chromedriver\n",
    "chrome_driver_path = \"chromedriver/chromedriver.exe\"  \n",
    "\n",
    "# Create a Service object\n",
    "service = Service(chrome_driver_path)\n",
    "\n",
    "# Initialize the WebDriver with the Service object\n",
    "driver = webdriver.Chrome(service=service)\n",
    "\n",
    "# Open Google Maps\n",
    "driver.get(\"https://www.google.com/maps\")\n",
    "\n",
    "# Define a WebDriverWait instance (wait for up to 10 seconds)\n",
    "wait = WebDriverWait(driver, 10)\n",
    "# Search for the gym\n",
    "search_box = driver.find_element(By.ID, \"searchboxinput\")\n",
    "search_box.send_keys(\"Virgin Active Paya Lebar\")\n",
    "search_box.submit()\n",
    "time.sleep(5)\n",
    "\n",
    "# Locate the Search button by class name\n",
    "search_button = driver.find_element(By.CLASS_NAME, \"mL3xi\")\n",
    "search_button.click()\n",
    "time.sleep(5)\n",
    "\n",
    "# Click on Reviews button by class name\n",
    "reviews_button = driver.find_element(By.CLASS_NAME, \"hh2c6\")\n",
    "\n",
    "# Click on More reviews button by class name\n",
    "# more_reviews_button = driver.find_element(By.CLASS_NAME, \"wNNZR\")\n",
    "# more_reviews_button.click()\n",
    "# time.sleep(5)\n",
    "\n",
    "# ---------------------------------------------------------------------------- #\n",
    "\n",
    "# Define a WebDriverWait instance (wait for up to 10 seconds)\n",
    "wait = WebDriverWait(driver, 10)\n",
    "\n",
    "# Wait for the review elements to be visible\n",
    "review_elements = wait.until(\n",
    "    EC.visibility_of_all_elements_located((By.CLASS_NAME, \"M77dve\"))\n",
    ")\n",
    "\n",
    "# Scrape the reviews\n",
    "reviews_data = []\n",
    "for review_element in review_elements:\n",
    "    review_text = review_element.text\n",
    "    reviews_data.append({\"review\": review_text})\n",
    "\n",
    "# Print reviews\n",
    "print(reviews_data)\n",
    "\n",
    "# ---------------------------------------------------------------------------- #\n",
    "driver.quit()\n"
   ]
  },
  {
   "cell_type": "markdown",
   "metadata": {},
   "source": [
    "Get more reviews"
   ]
  },
  {
   "cell_type": "code",
   "execution_count": 1,
   "metadata": {},
   "outputs": [
    {
     "ename": "NameError",
     "evalue": "name 'Service' is not defined",
     "output_type": "error",
     "traceback": [
      "\u001b[1;31m---------------------------------------------------------------------------\u001b[0m",
      "\u001b[1;31mNameError\u001b[0m                                 Traceback (most recent call last)",
      "Cell \u001b[1;32mIn[1], line 5\u001b[0m\n\u001b[0;32m      2\u001b[0m chrome_driver_path \u001b[38;5;241m=\u001b[39m \u001b[38;5;124m\"\u001b[39m\u001b[38;5;124mchromedriver/chromedriver.exe\u001b[39m\u001b[38;5;124m\"\u001b[39m  \n\u001b[0;32m      4\u001b[0m \u001b[38;5;66;03m# Create a Service object\u001b[39;00m\n\u001b[1;32m----> 5\u001b[0m service \u001b[38;5;241m=\u001b[39m \u001b[43mService\u001b[49m(chrome_driver_path)\n\u001b[0;32m      7\u001b[0m \u001b[38;5;66;03m# Initialize the WebDriver with the Service object\u001b[39;00m\n\u001b[0;32m      8\u001b[0m driver \u001b[38;5;241m=\u001b[39m webdriver\u001b[38;5;241m.\u001b[39mChrome(service\u001b[38;5;241m=\u001b[39mservice)\n",
      "\u001b[1;31mNameError\u001b[0m: name 'Service' is not defined"
     ]
    }
   ],
   "source": [
    "# Specify the path to the chromedriver\n",
    "chrome_driver_path = \"chromedriver/chromedriver.exe\"  \n",
    "\n",
    "# Create a Service object\n",
    "service = Service(chrome_driver_path)\n",
    "\n",
    "# Initialize the WebDriver with the Service object\n",
    "driver = webdriver.Chrome(service=service)\n",
    "\n",
    "# Open Google Maps\n",
    "driver.get(\"https://www.google.com/maps\")\n",
    "\n",
    "# Define a WebDriverWait instance (wait for up to 10 seconds)\n",
    "wait = WebDriverWait(driver, 10)\n",
    "# Search for the gym\n",
    "search_box = driver.find_element(By.ID, \"searchboxinput\")\n",
    "search_box.send_keys(\"Virgin Active Paya Lebar\")\n",
    "search_box.submit()\n",
    "time.sleep(5)\n",
    "\n",
    "# Locate the Search button by class name\n",
    "search_button = driver.find_element(By.CLASS_NAME, \"mL3xi\")\n",
    "search_button.click()\n",
    "time.sleep(5)\n",
    "\n",
    "# Click on Reviews button by class name\n",
    "# reviews_button = driver.find_element(By.CLASS_NAME, \"hh2c6\")\n",
    "reviews_button = driver.find_element(By.XPATH, \"//*[@id='QA0Szd']/div/div/div[1]/div[2]/div/div[1]/div/div/div[3]/div/div/button[2]\")\n",
    "reviews_button.click()\n",
    "time.sleep(5)\n",
    "\n",
    "# Click on More reviews button by class name\n",
    "# more_reviews_button = driver.find_element(By.CLASS_NAME, \"wNNZR\")\n",
    "# more_reviews_button.click()\n",
    "# time.sleep(5)\n",
    "\n",
    "# ---------------------------------------------------------------------------- #\n",
    "\n",
    "# Define a WebDriverWait instance (wait for up to 10 seconds)\n",
    "wait = WebDriverWait(driver, 10)\n",
    "\n",
    "# Wait for the review elements to be visible\n",
    "# review_elements = wait.until(\n",
    "#     EC.visibility_of_all_elements_located((By.CLASS_NAME, \"M77dve\"))\n",
    "# )\n",
    "review_elements = wait.until(\n",
    "    EC.visibility_of_all_elements_located((By.XPATH, \"//*[@id='ChdDSUhNMG9nS0VJQ0FnSURIaTZQazBRRRAB']\"))\n",
    ")\n",
    "\n",
    "# Scrape the reviews\n",
    "reviews_data = []\n",
    "for review_element in review_elements:\n",
    "    review_text = review_element.text\n",
    "    reviews_data.append({\"review\": review_text})\n",
    "\n",
    "# Print reviews\n",
    "print(reviews_data)\n",
    "\n",
    "# ---------------------------------------------------------------------------- #\n",
    "driver.quit()\n"
   ]
  },
  {
   "cell_type": "code",
   "execution_count": 29,
   "metadata": {},
   "outputs": [
    {
     "data": {
      "text/plain": [
       "1"
      ]
     },
     "execution_count": 29,
     "metadata": {},
     "output_type": "execute_result"
    }
   ],
   "source": [
    "len(reviews_data)"
   ]
  }
 ],
 "metadata": {
  "kernelspec": {
   "display_name": ".venv",
   "language": "python",
   "name": "python3"
  },
  "language_info": {
   "codemirror_mode": {
    "name": "ipython",
    "version": 3
   },
   "file_extension": ".py",
   "mimetype": "text/x-python",
   "name": "python",
   "nbconvert_exporter": "python",
   "pygments_lexer": "ipython3",
   "version": "3.10.7"
  }
 },
 "nbformat": 4,
 "nbformat_minor": 2
}
