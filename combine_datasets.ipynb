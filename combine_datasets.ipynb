{
 "cells": [
  {
   "cell_type": "markdown",
   "metadata": {},
   "source": [
    "## Combining Datasets\n",
    "\n",
    "Datasets we have\n",
    "1. Fitness First\n",
    "   1. Junction 10 (North) 4.5 rating, 284 reviews\n",
    "   2. One George Street (Central/South) 4.4 rating, 283 reviews\n",
    "   3. Tampines (East) 4.1 rating, 198 reviews\n",
    "   4. Paya Lebar (East) 3.9 rating, 197 reviews\n",
    "2. Virgin Active\n",
    "   1. Tanjong Pagar (Central/South) 4.3 rating, 438 reviews\n",
    "   2. Paya Lebar (East) 4.3 rating, 219 reviews\n",
    "\n",
    "The dataframe outputs we want are\n",
    "1. virgin_active_reviews\n",
    "   1. virgin_active_positive_reviews\n",
    "   2. virgin_active_negative_reviews\n",
    "2. fitness_first_reviews\n",
    "   1. fitness_first_positive_reviews\n",
    "   2. fitness_first_negative_reviews\n",
    "3. competitor_reviews\n",
    "   \n",
    "For the columns, we just want\n",
    "1. review_text (string, then rename to review)\n",
    "2. rating (category)\n",
    "3. published_at_date (datetime)\n",
    "4. place_name (category)\n",
    "\n",
    "The other notebooks will analyze competitor gym reviews and ratings for better decision-making using the following NLP techniques\n",
    "1.  Word Clouds by Rating: Compare word clouds for high (4-5 stars) and low (1-2 stars) ratings to identify key strengths and weaknesses.\n",
    "2.  Topic Modeling (LDA): Discover hidden themes (e.g., equipment, classes, staff) to understand common concerns and strengths.\n",
    "3.  Sentiment by Topic: Analyze sentiment for specific topics (e.g., \"equipment\" or \"classes\") across different rating levels to pinpoint areas for improvement."
   ]
  },
  {
   "cell_type": "code",
   "execution_count": null,
   "metadata": {},
   "outputs": [],
   "source": [
    "# fitness-first-georgest, fitness-first-junction10, fitness-first-paya\n",
    "# virgin-active-paya, virgin-active-tanjong"
   ]
  }
 ],
 "metadata": {
  "kernelspec": {
   "display_name": ".venv",
   "language": "python",
   "name": "python3"
  },
  "language_info": {
   "name": "python",
   "version": "3.10.7"
  }
 },
 "nbformat": 4,
 "nbformat_minor": 2
}
